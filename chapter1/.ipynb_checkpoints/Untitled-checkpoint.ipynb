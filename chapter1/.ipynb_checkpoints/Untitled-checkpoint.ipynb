{
 "cells": [
  {
   "cell_type": "markdown",
   "metadata": {},
   "source": [
    "# Statistics: The Science of Decisions Project Instructions"
   ]
  },
  {
   "cell_type": "markdown",
   "metadata": {},
   "source": [
    "## Background Information\n",
    "\n",
    "In a Stroop task, participants are presented with a list of words, with each word displayed in a color of ink. The participant’s task is to say out loud the color of the ink in which the word is printed. The task has two conditions: a congruent words condition, and an incongruent words condition. In the congruent words condition, the words being displayed are color words whose names match the colors in which they are printed: for example <font color = \"red\">RED</font>, <font color = \"blue\">BLUE</font>. In the incongruent words condition, the words displayed are color words whose names do not match the colors in which they are printed: for example <font color = \"green\">PURPLE</font>, <font color = \"purple\">ORANGE</font>. In each case, we measure the time it takes to name the ink colors in equally-sized lists. Each participant will go through and record a time from each condition."
   ]
  },
  {
   "cell_type": "markdown",
   "metadata": {},
   "source": [
    "## Questions For Investigation\n",
    "\n",
    "As a general note, be sure to keep a record of any resources that you use or refer to in the creation of your project. You will need to report your sources as part of the project submission."
   ]
  },
  {
   "cell_type": "markdown",
   "metadata": {},
   "source": [
    "### 1. What is our independent variable? What is our dependent variable?"
   ]
  },
  {
   "cell_type": "markdown",
   "metadata": {},
   "source": [
    "- independent variable : words condition (congruent words or incongruent words)\n",
    "- dependent variable   : recorded time which the participant say out"
   ]
  },
  {
   "cell_type": "markdown",
   "metadata": {},
   "source": [
    "### 2. What is an appropriate set of hypotheses for this task? What kind of statistical test do you expect to perform?"
   ]
  },
  {
   "cell_type": "markdown",
   "metadata": {},
   "source": [
    "- Null Alternative (H0: μc = μi) :\n",
    "  - There is no significant difference between the population mean of the time taken to say color of the ink in which the word is printed under incongruent condition and congruent condition.\n",
    "- Alternative Alternative (H1: μc < μi) :\n",
    "  - The population mean of the time taken to say color of the ink in which the word is printed under congruent condition would be shorter than incongruent condition."
   ]
  },
  {
   "cell_type": "markdown",
   "metadata": {},
   "source": [
    "- first. it is the test to know the difference between two condition so i will use paired test\n",
    "- second. z-score vs t-score : I don't have population mean and std, so I use t-score.\n",
    "- third. A t-test is a hypothesis test of the mean of one or two normally distributed populations. In question 3 two graph, I assume that there populations are two normally distributed populations. (or i have to use Mann-Whitney test)\n",
    "- Last. if size of sample less than 30, i have to make new variable, which is difference between two variable under congruent condition and incongruent condition) and judge normality to procesed next level. and if sample size is more than 30, i already assume two variable is normalized so i can just proceed paired t-test. In this question, sample size is 24, so I assume the variable(difference between two variable)is nomalized."
   ]
  },
  {
   "cell_type": "markdown",
   "metadata": {},
   "source": [
    "### 3. Report some descriptive statistics regarding this dataset. Include at least one measure of central tendency and at least one measure of variability."
   ]
  },
  {
   "cell_type": "code",
   "execution_count": 1,
   "metadata": {
    "collapsed": true
   },
   "outputs": [],
   "source": [
    "import pandas as pd\n",
    "import numpy as np\n",
    "import matplotlib.pyplot as plt\n",
    "import seaborn as sns\n",
    "from scipy import stats, integrate\n",
    "%matplotlib inline"
   ]
  },
  {
   "cell_type": "code",
   "execution_count": 2,
   "metadata": {
    "collapsed": false
   },
   "outputs": [],
   "source": [
    "stroop = pd.read_csv(\"./stroopdata.csv\")"
   ]
  },
  {
   "cell_type": "markdown",
   "metadata": {},
   "source": [
    "just check describe (because the question want descriptive statistics such as mean, std... and so on)"
   ]
  },
  {
   "cell_type": "code",
   "execution_count": 3,
   "metadata": {
    "collapsed": false,
    "scrolled": true
   },
   "outputs": [
    {
     "data": {
      "text/html": [
       "<div>\n",
       "<table border=\"1\" class=\"dataframe\">\n",
       "  <thead>\n",
       "    <tr style=\"text-align: right;\">\n",
       "      <th></th>\n",
       "      <th>Congruent</th>\n",
       "      <th>Incongruent</th>\n",
       "    </tr>\n",
       "  </thead>\n",
       "  <tbody>\n",
       "    <tr>\n",
       "      <th>count</th>\n",
       "      <td>24.000000</td>\n",
       "      <td>24.000000</td>\n",
       "    </tr>\n",
       "    <tr>\n",
       "      <th>mean</th>\n",
       "      <td>14.051125</td>\n",
       "      <td>22.015917</td>\n",
       "    </tr>\n",
       "    <tr>\n",
       "      <th>std</th>\n",
       "      <td>3.559358</td>\n",
       "      <td>4.797057</td>\n",
       "    </tr>\n",
       "    <tr>\n",
       "      <th>min</th>\n",
       "      <td>8.630000</td>\n",
       "      <td>15.687000</td>\n",
       "    </tr>\n",
       "    <tr>\n",
       "      <th>25%</th>\n",
       "      <td>11.895250</td>\n",
       "      <td>18.716750</td>\n",
       "    </tr>\n",
       "    <tr>\n",
       "      <th>50%</th>\n",
       "      <td>14.356500</td>\n",
       "      <td>21.017500</td>\n",
       "    </tr>\n",
       "    <tr>\n",
       "      <th>75%</th>\n",
       "      <td>16.200750</td>\n",
       "      <td>24.051500</td>\n",
       "    </tr>\n",
       "    <tr>\n",
       "      <th>max</th>\n",
       "      <td>22.328000</td>\n",
       "      <td>35.255000</td>\n",
       "    </tr>\n",
       "  </tbody>\n",
       "</table>\n",
       "</div>"
      ],
      "text/plain": [
       "       Congruent  Incongruent\n",
       "count  24.000000    24.000000\n",
       "mean   14.051125    22.015917\n",
       "std     3.559358     4.797057\n",
       "min     8.630000    15.687000\n",
       "25%    11.895250    18.716750\n",
       "50%    14.356500    21.017500\n",
       "75%    16.200750    24.051500\n",
       "max    22.328000    35.255000"
      ]
     },
     "execution_count": 3,
     "metadata": {},
     "output_type": "execute_result"
    }
   ],
   "source": [
    "stroop.describe()"
   ]
  },
  {
   "cell_type": "markdown",
   "metadata": {},
   "source": [
    "### 4. Provide one or two visualizations that show the distribution of the sample data. Write one or two sentences noting what you observe about the plot or plots."
   ]
  },
  {
   "cell_type": "markdown",
   "metadata": {},
   "source": [
    "1. Congruent Graph and Incongruent Graph for know their distribution directly\n",
    " - bar is histogram line is distribution\n",
    " - check https://stanford.edu/~mwaskom/software/seaborn/generated/seaborn.distplot.html#seaborn.distplot"
   ]
  },
  {
   "cell_type": "code",
   "execution_count": 4,
   "metadata": {
    "collapsed": false,
    "scrolled": true
   },
   "outputs": [
    {
     "data": {
      "image/png": "[encoded data removed]",
      "text/plain": [
       "<matplotlib.figure.Figure at 0x3e88978>"
      ]
     },
     "metadata": {},
     "output_type": "display_data"
    }
   ],
   "source": [
    "sns.distplot(stroop[\"Congruent\"]);"
   ]
  },
  {
   "cell_type": "markdown",
   "metadata": {},
   "source": [
    "in describe (upper), i missed mode. mode is about 15"
   ]
  },
  {
   "cell_type": "code",
   "execution_count": 5,
   "metadata": {
    "collapsed": false
   },
   "outputs": [
    {
     "data": {
      "image/png": "[encoded data removed]",
      "text/plain": [
       "<matplotlib.figure.Figure at 0xa092198>"
      ]
     },
     "metadata": {},
     "output_type": "display_data"
    }
   ],
   "source": [
    "sns.distplot(stroop[\"Incongruent\"]);"
   ]
  },
  {
   "cell_type": "markdown",
   "metadata": {},
   "source": [
    "mode is about 20 and about 35"
   ]
  },
  {
   "cell_type": "code",
   "execution_count": 6,
   "metadata": {
    "collapsed": false
   },
   "outputs": [
    {
     "data": {
      "text/plain": [
       "<matplotlib.axes._subplots.AxesSubplot at 0xa2775c0>"
      ]
     },
     "execution_count": 6,
     "metadata": {},
     "output_type": "execute_result"
    },
    {
     "data": {
      "image/png": "[encoded data removed]",
      "text/plain": [
       "<matplotlib.figure.Figure at 0xa1d9b38>"
      ]
     },
     "metadata": {},
     "output_type": "display_data"
    }
   ],
   "source": [
    "sns.boxplot(data=stroop)"
   ]
  },
  {
   "cell_type": "markdown",
   "metadata": {},
   "source": [
    "i can see 2 things\n",
    "first, incongruent has spend more time than congruent\n",
    "second, incongruent has outliers"
   ]
  },
  {
   "cell_type": "markdown",
   "metadata": {},
   "source": [
    "### 5. Now, perform the statistical test and report your results. What is your confidence level and your critical statistic value? Do you reject the null hypothesis or fail to reject it? Come to a conclusion in terms of the experiment task. Did the results match up with your expectations?"
   ]
  },
  {
   "cell_type": "markdown",
   "metadata": {},
   "source": [
    " - one tail (negative), independent(t-score), confidence level(alpha) = 95%"
   ]
  },
  {
   "cell_type": "markdown",
   "metadata": {},
   "source": [
    "- t Critical value : -1.714"
   ]
  },
  {
   "cell_type": "markdown",
   "metadata": {},
   "source": [
    "- mean difference(μd) : μc - μi = 14.05 - 22.02 = -7.96"
   ]
  },
  {
   "cell_type": "markdown",
   "metadata": {},
   "source": [
    "- sd : 4.86"
   ]
  },
  {
   "cell_type": "markdown",
   "metadata": {},
   "source": [
    "- SEd: sd / sqrt(n) = 4.86 / 4.90 = 0.99"
   ]
  },
  {
   "cell_type": "markdown",
   "metadata": {},
   "source": [
    "- t statistic : μd/SEd = -8.02"
   ]
  },
  {
   "cell_type": "markdown",
   "metadata": {},
   "source": [
    "### decision: reject null hypotheses"
   ]
  },
  {
   "cell_type": "markdown",
   "metadata": {},
   "source": [
    "- cohen's d : μd/sd = -1.64\n"
   ]
  },
  {
   "cell_type": "markdown",
   "metadata": {},
   "source": [
    "- CI(95%) : (μd - 2.069 * SEd, μd + 2.069 * SEd) = (-10.01, -5.91)"
   ]
  }
 ],
 "metadata": {
  "kernelspec": {
   "display_name": "Python 2",
   "language": "python",
   "name": "python2"
  },
  "language_info": {
   "codemirror_mode": {
    "name": "ipython",
    "version": 2
   },
   "file_extension": ".py",
   "mimetype": "text/x-python",
   "name": "python",
   "nbconvert_exporter": "python",
   "pygments_lexer": "ipython2",
   "version": "2.7.11"
  }
 },
 "nbformat": 4,
 "nbformat_minor": 0
}

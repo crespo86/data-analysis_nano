{
 "cells": [
  {
   "cell_type": "code",
   "execution_count": 2,
   "metadata": {
    "collapsed": false
   },
   "outputs": [],
   "source": [
    "library(tidyr)\n",
    "library(dplyr)"
   ]
  },
  {
   "cell_type": "code",
   "execution_count": 4,
   "metadata": {
    "collapsed": true
   },
   "outputs": [],
   "source": [
    "set.seed(1)"
   ]
  },
  {
   "cell_type": "code",
   "execution_count": 6,
   "metadata": {
    "collapsed": true
   },
   "outputs": [],
   "source": [
    "ex <- data.frame(\n",
    "  participant = c(\"p1\", \"p2\", \"p3\", \"p4\", \"p5\", \"p6\"), \n",
    "  info = c(\"g1m\", \"g1m\", \"g1f\", \"g2m\", \"g2m\", \"g2m\"),\n",
    "  day1score = rnorm(n = 6, mean = 80, sd = 15), \n",
    "  day2score = rnorm(n = 6, mean = 88, sd = 8)\n",
    ")"
   ]
  },
  {
   "cell_type": "code",
   "execution_count": 11,
   "metadata": {
    "collapsed": false
   },
   "outputs": [
    {
     "data": {
      "text/html": [
       "<table>\n",
       "<thead><tr><th></th><th scope=col>participant</th><th scope=col>info</th><th scope=col>day1score</th><th scope=col>day2score</th></tr></thead>\n",
       "<tbody>\n",
       "\t<tr><th scope=row>1</th><td>1               </td><td>2               </td><td>70.6813912918729</td><td>94.5697695607847</td></tr>\n",
       "\t<tr><th scope=row>2</th><td>2               </td><td>2               </td><td>46.7795016923375</td><td>92.7512105697401</td></tr>\n",
       "\t<tr><th scope=row>3</th><td>3               </td><td>1               </td><td>96.8739637721466</td><td>95.3518189728657</td></tr>\n",
       "\t<tr><th scope=row>4</th><td>4               </td><td>3               </td><td>79.3259958647715</td><td>94.2570904058485</td></tr>\n",
       "\t<tr><th scope=row>5</th><td>5               </td><td>3               </td><td>79.7571460535158</td><td>88.5965198669215</td></tr>\n",
       "\t<tr><th scope=row>6</th><td>6               </td><td>3               </td><td>94.1575431602795</td><td>72.085186433093 </td></tr>\n",
       "</tbody>\n",
       "</table>\n"
      ],
      "text/latex": [
       "\\begin{tabular}{r|llll}\n",
       "  & participant & info & day1score & day2score\\\\\n",
       "\\hline\n",
       "\t1 & 1                & 2                & 70.6813912918729 & 94.5697695607847\\\\\n",
       "\t2 & 2                & 2                & 46.7795016923375 & 92.7512105697401\\\\\n",
       "\t3 & 3                & 1                & 96.8739637721466 & 95.3518189728657\\\\\n",
       "\t4 & 4                & 3                & 79.3259958647715 & 94.2570904058485\\\\\n",
       "\t5 & 5                & 3                & 79.7571460535158 & 88.5965198669215\\\\\n",
       "\t6 & 6                & 3                & 94.1575431602795 & 72.085186433093 \\\\\n",
       "\\end{tabular}\n"
      ],
      "text/plain": [
       "  participant info day1score day2score\n",
       "1          p1  g1m  70.68139  94.56977\n",
       "2          p2  g1m  46.77950  92.75121\n",
       "3          p3  g1f  96.87396  95.35182\n",
       "4          p4  g2m  79.32600  94.25709\n",
       "5          p5  g2m  79.75715  88.59652\n",
       "6          p6  g2m  94.15754  72.08519"
      ]
     },
     "execution_count": 11,
     "metadata": {},
     "output_type": "execute_result"
    }
   ],
   "source": [
    "ex"
   ]
  },
  {
   "cell_type": "code",
   "execution_count": 15,
   "metadata": {
    "collapsed": false
   },
   "outputs": [
    {
     "data": {
      "text/html": [
       "<table>\n",
       "<thead><tr><th></th><th scope=col>participant</th><th scope=col>info</th><th scope=col>day</th><th scope=col>score</th></tr></thead>\n",
       "<tbody>\n",
       "\t<tr><th scope=row>1</th><td>1               </td><td>2               </td><td>day1score       </td><td>70.6813912918729</td></tr>\n",
       "\t<tr><th scope=row>2</th><td>2               </td><td>2               </td><td>day1score       </td><td>46.7795016923375</td></tr>\n",
       "\t<tr><th scope=row>3</th><td>3               </td><td>1               </td><td>day1score       </td><td>96.8739637721466</td></tr>\n",
       "\t<tr><th scope=row>4</th><td>4               </td><td>3               </td><td>day1score       </td><td>79.3259958647715</td></tr>\n",
       "\t<tr><th scope=row>5</th><td>5               </td><td>3               </td><td>day1score       </td><td>79.7571460535158</td></tr>\n",
       "\t<tr><th scope=row>6</th><td>6               </td><td>3               </td><td>day1score       </td><td>94.1575431602795</td></tr>\n",
       "\t<tr><th scope=row>7</th><td>1               </td><td>2               </td><td>day2score       </td><td>94.5697695607847</td></tr>\n",
       "\t<tr><th scope=row>8</th><td>2               </td><td>2               </td><td>day2score       </td><td>92.7512105697401</td></tr>\n",
       "\t<tr><th scope=row>9</th><td>3               </td><td>1               </td><td>day2score       </td><td>95.3518189728657</td></tr>\n",
       "\t<tr><th scope=row>10</th><td>4               </td><td>3               </td><td>day2score       </td><td>94.2570904058485</td></tr>\n",
       "\t<tr><th scope=row>11</th><td>5               </td><td>3               </td><td>day2score       </td><td>88.5965198669215</td></tr>\n",
       "\t<tr><th scope=row>12</th><td>6              </td><td>3              </td><td>day2score      </td><td>72.085186433093</td></tr>\n",
       "</tbody>\n",
       "</table>\n"
      ],
      "text/latex": [
       "\\begin{tabular}{r|llll}\n",
       "  & participant & info & day & score\\\\\n",
       "\\hline\n",
       "\t1 & 1                & 2                & day1score        & 70.6813912918729\\\\\n",
       "\t2 & 2                & 2                & day1score        & 46.7795016923375\\\\\n",
       "\t3 & 3                & 1                & day1score        & 96.8739637721466\\\\\n",
       "\t4 & 4                & 3                & day1score        & 79.3259958647715\\\\\n",
       "\t5 & 5                & 3                & day1score        & 79.7571460535158\\\\\n",
       "\t6 & 6                & 3                & day1score        & 94.1575431602795\\\\\n",
       "\t7 & 1                & 2                & day2score        & 94.5697695607847\\\\\n",
       "\t8 & 2                & 2                & day2score        & 92.7512105697401\\\\\n",
       "\t9 & 3                & 1                & day2score        & 95.3518189728657\\\\\n",
       "\t10 & 4                & 3                & day2score        & 94.2570904058485\\\\\n",
       "\t11 & 5                & 3                & day2score        & 88.5965198669215\\\\\n",
       "\t12 & 6               & 3               & day2score       & 72.085186433093\\\\\n",
       "\\end{tabular}\n"
      ],
      "text/plain": [
       "   participant info       day    score\n",
       "1           p1  g1m day1score 70.68139\n",
       "2           p2  g1m day1score 46.77950\n",
       "3           p3  g1f day1score 96.87396\n",
       "4           p4  g2m day1score 79.32600\n",
       "5           p5  g2m day1score 79.75715\n",
       "6           p6  g2m day1score 94.15754\n",
       "7           p1  g1m day2score 94.56977\n",
       "8           p2  g1m day2score 92.75121\n",
       "9           p3  g1f day2score 95.35182\n",
       "10          p4  g2m day2score 94.25709\n",
       "11          p5  g2m day2score 88.59652\n",
       "12          p6  g2m day2score 72.08519"
      ]
     },
     "execution_count": 15,
     "metadata": {},
     "output_type": "execute_result"
    }
   ],
   "source": [
    "ex %>%\n",
    "gather(day, score, c(day1score, day2score))"
   ]
  },
  {
   "cell_type": "code",
   "execution_count": 16,
   "metadata": {
    "collapsed": false
   },
   "outputs": [
    {
     "data": {
      "text/html": [
       "<table>\n",
       "<thead><tr><th></th><th scope=col>participant</th><th scope=col>info</th><th scope=col>day1score</th><th scope=col>day2score</th></tr></thead>\n",
       "<tbody>\n",
       "\t<tr><th scope=row>1</th><td>1               </td><td>2               </td><td>70.6813912918729</td><td>94.5697695607847</td></tr>\n",
       "\t<tr><th scope=row>2</th><td>2               </td><td>2               </td><td>46.7795016923375</td><td>92.7512105697401</td></tr>\n",
       "\t<tr><th scope=row>3</th><td>3               </td><td>1               </td><td>96.8739637721466</td><td>95.3518189728657</td></tr>\n",
       "\t<tr><th scope=row>4</th><td>4               </td><td>3               </td><td>79.3259958647715</td><td>94.2570904058485</td></tr>\n",
       "\t<tr><th scope=row>5</th><td>5               </td><td>3               </td><td>79.7571460535158</td><td>88.5965198669215</td></tr>\n",
       "\t<tr><th scope=row>6</th><td>6               </td><td>3               </td><td>94.1575431602795</td><td>72.085186433093 </td></tr>\n",
       "</tbody>\n",
       "</table>\n"
      ],
      "text/latex": [
       "\\begin{tabular}{r|llll}\n",
       "  & participant & info & day1score & day2score\\\\\n",
       "\\hline\n",
       "\t1 & 1                & 2                & 70.6813912918729 & 94.5697695607847\\\\\n",
       "\t2 & 2                & 2                & 46.7795016923375 & 92.7512105697401\\\\\n",
       "\t3 & 3                & 1                & 96.8739637721466 & 95.3518189728657\\\\\n",
       "\t4 & 4                & 3                & 79.3259958647715 & 94.2570904058485\\\\\n",
       "\t5 & 5                & 3                & 79.7571460535158 & 88.5965198669215\\\\\n",
       "\t6 & 6                & 3                & 94.1575431602795 & 72.085186433093 \\\\\n",
       "\\end{tabular}\n"
      ],
      "text/plain": [
       "  participant info day1score day2score\n",
       "1          p1  g1m  70.68139  94.56977\n",
       "2          p2  g1m  46.77950  92.75121\n",
       "3          p3  g1f  96.87396  95.35182\n",
       "4          p4  g2m  79.32600  94.25709\n",
       "5          p5  g2m  79.75715  88.59652\n",
       "6          p6  g2m  94.15754  72.08519"
      ]
     },
     "execution_count": 16,
     "metadata": {},
     "output_type": "execute_result"
    }
   ],
   "source": [
    "ex %>%\n",
    "gather(day, score, c(day1score, day2score)) %>%\n",
    "spread(day, score)"
   ]
  },
  {
   "cell_type": "code",
   "execution_count": 24,
   "metadata": {
    "collapsed": false
   },
   "outputs": [
    {
     "data": {
      "text/html": [
       "<table>\n",
       "<thead><tr><th></th><th scope=col>participant</th><th scope=col>group</th><th scope=col>gender</th><th scope=col>day</th><th scope=col>score</th></tr></thead>\n",
       "<tbody>\n",
       "\t<tr><th scope=row>1</th><td>1               </td><td>g1              </td><td>m               </td><td>day1score       </td><td>70.6813912918729</td></tr>\n",
       "\t<tr><th scope=row>2</th><td>2               </td><td>g1              </td><td>m               </td><td>day1score       </td><td>46.7795016923375</td></tr>\n",
       "\t<tr><th scope=row>3</th><td>3               </td><td>g1              </td><td>f               </td><td>day1score       </td><td>96.8739637721466</td></tr>\n",
       "\t<tr><th scope=row>4</th><td>4               </td><td>g2              </td><td>m               </td><td>day1score       </td><td>79.3259958647715</td></tr>\n",
       "\t<tr><th scope=row>5</th><td>5               </td><td>g2              </td><td>m               </td><td>day1score       </td><td>79.7571460535158</td></tr>\n",
       "\t<tr><th scope=row>6</th><td>6               </td><td>g2              </td><td>m               </td><td>day1score       </td><td>94.1575431602795</td></tr>\n",
       "\t<tr><th scope=row>7</th><td>1               </td><td>g1              </td><td>m               </td><td>day2score       </td><td>94.5697695607847</td></tr>\n",
       "\t<tr><th scope=row>8</th><td>2               </td><td>g1              </td><td>m               </td><td>day2score       </td><td>92.7512105697401</td></tr>\n",
       "\t<tr><th scope=row>9</th><td>3               </td><td>g1              </td><td>f               </td><td>day2score       </td><td>95.3518189728657</td></tr>\n",
       "\t<tr><th scope=row>10</th><td>4               </td><td>g2              </td><td>m               </td><td>day2score       </td><td>94.2570904058485</td></tr>\n",
       "\t<tr><th scope=row>11</th><td>5               </td><td>g2              </td><td>m               </td><td>day2score       </td><td>88.5965198669215</td></tr>\n",
       "\t<tr><th scope=row>12</th><td>6              </td><td>g2             </td><td>m              </td><td>day2score      </td><td>72.085186433093</td></tr>\n",
       "</tbody>\n",
       "</table>\n"
      ],
      "text/latex": [
       "\\begin{tabular}{r|lllll}\n",
       "  & participant & group & gender & day & score\\\\\n",
       "\\hline\n",
       "\t1 & 1                & g1               & m                & day1score        & 70.6813912918729\\\\\n",
       "\t2 & 2                & g1               & m                & day1score        & 46.7795016923375\\\\\n",
       "\t3 & 3                & g1               & f                & day1score        & 96.8739637721466\\\\\n",
       "\t4 & 4                & g2               & m                & day1score        & 79.3259958647715\\\\\n",
       "\t5 & 5                & g2               & m                & day1score        & 79.7571460535158\\\\\n",
       "\t6 & 6                & g2               & m                & day1score        & 94.1575431602795\\\\\n",
       "\t7 & 1                & g1               & m                & day2score        & 94.5697695607847\\\\\n",
       "\t8 & 2                & g1               & m                & day2score        & 92.7512105697401\\\\\n",
       "\t9 & 3                & g1               & f                & day2score        & 95.3518189728657\\\\\n",
       "\t10 & 4                & g2               & m                & day2score        & 94.2570904058485\\\\\n",
       "\t11 & 5                & g2               & m                & day2score        & 88.5965198669215\\\\\n",
       "\t12 & 6               & g2              & m               & day2score       & 72.085186433093\\\\\n",
       "\\end{tabular}\n"
      ],
      "text/plain": [
       "   participant group gender       day    score\n",
       "1           p1    g1      m day1score 70.68139\n",
       "2           p2    g1      m day1score 46.77950\n",
       "3           p3    g1      f day1score 96.87396\n",
       "4           p4    g2      m day1score 79.32600\n",
       "5           p5    g2      m day1score 79.75715\n",
       "6           p6    g2      m day1score 94.15754\n",
       "7           p1    g1      m day2score 94.56977\n",
       "8           p2    g1      m day2score 92.75121\n",
       "9           p3    g1      f day2score 95.35182\n",
       "10          p4    g2      m day2score 94.25709\n",
       "11          p5    g2      m day2score 88.59652\n",
       "12          p6    g2      m day2score 72.08519"
      ]
     },
     "execution_count": 24,
     "metadata": {},
     "output_type": "execute_result"
    }
   ],
   "source": [
    "ex %>%\n",
    "gather(day, score, c(day1score, day2score)) %>%\n",
    "separate(col = info, into = c(\"group\",\"gender\"), sep =2)"
   ]
  },
  {
   "cell_type": "code",
   "execution_count": null,
   "metadata": {
    "collapsed": true
   },
   "outputs": [],
   "source": []
  },
  {
   "cell_type": "code",
   "execution_count": null,
   "metadata": {
    "collapsed": true
   },
   "outputs": [],
   "source": []
  }
 ],
 "metadata": {
  "kernelspec": {
   "display_name": "R",
   "language": "R",
   "name": "ir"
  },
  "language_info": {
   "codemirror_mode": "r",
   "file_extension": ".r",
   "mimetype": "text/x-r-source",
   "name": "R",
   "pygments_lexer": "r",
   "version": "3.2.2"
  }
 },
 "nbformat": 4,
 "nbformat_minor": 0
}

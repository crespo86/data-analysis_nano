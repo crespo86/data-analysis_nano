{
 "cells": [
  {
   "cell_type": "code",
   "execution_count": 13,
   "metadata": {
    "collapsed": true
   },
   "outputs": [],
   "source": [
    "from pymongo import MongoClient"
   ]
  },
  {
   "cell_type": "code",
   "execution_count": 14,
   "metadata": {
    "collapsed": true
   },
   "outputs": [],
   "source": [
    "client = MongoClient()\n",
    "db = client['test']"
   ]
  },
  {
   "cell_type": "code",
   "execution_count": 15,
   "metadata": {
    "collapsed": true
   },
   "outputs": [],
   "source": [
    "cursor = db.restaurants.find()"
   ]
  },
  {
   "cell_type": "code",
   "execution_count": 16,
   "metadata": {
    "collapsed": false,
    "scrolled": true
   },
   "outputs": [
    {
     "name": "stdout",
     "output_type": "stream",
     "text": [
      "{u'_id': ObjectId('5726f2d045e0512ab4126fb1'),\n",
      " u'address': {u'building': u'1480',\n",
      "              u'coord': [-73.9557413, 40.7720266],\n",
      "              u'street': u'2 Avenue',\n",
      "              u'zipcode': u'10075'},\n",
      " u'borough': u'Manhattan',\n",
      " u'cuisine': u'Italian',\n",
      " u'grades': [{u'date': datetime.datetime(2014, 10, 1, 0, 0),\n",
      "              u'grade': u'A',\n",
      "              u'score': 11},\n",
      "             {u'date': datetime.datetime(2014, 1, 16, 0, 0),\n",
      "              u'grade': u'B',\n",
      "              u'score': 17}],\n",
      " u'name': u'Vella',\n",
      " u'restaurant_id': u'41704620'}\n",
      "{u'_id': ObjectId('5726f2d845e0512ac42f8294'),\n",
      " u'address': {u'building': u'1480',\n",
      "              u'coord': [-73.9557413, 40.7720266],\n",
      "              u'street': u'2 Avenue',\n",
      "              u'zipcode': u'10075'},\n",
      " u'borough': u'Manhattan',\n",
      " u'cuisine': u'Italian',\n",
      " u'grades': [{u'date': datetime.datetime(2014, 10, 1, 0, 0),\n",
      "              u'grade': u'A',\n",
      "              u'score': 11},\n",
      "             {u'date': datetime.datetime(2014, 1, 16, 0, 0),\n",
      "              u'grade': u'B',\n",
      "              u'score': 17}],\n",
      " u'name': u'Vella',\n",
      " u'restaurant_id': u'41704620'}\n",
      "{u'_id': ObjectId('5726f2f545e0512ace4bc79b'),\n",
      " u'address': {u'building': u'1480',\n",
      "              u'coord': [-73.9557413, 40.7720266],\n",
      "              u'street': u'2 Avenue',\n",
      "              u'zipcode': u'10075'},\n",
      " u'borough': u'Manhattan',\n",
      " u'cuisine': u'Italian',\n",
      " u'grades': [{u'date': datetime.datetime(2014, 10, 1, 0, 0),\n",
      "              u'grade': u'A',\n",
      "              u'score': 11},\n",
      "             {u'date': datetime.datetime(2014, 1, 16, 0, 0),\n",
      "              u'grade': u'B',\n",
      "              u'score': 17}],\n",
      " u'name': u'Vella',\n",
      " u'restaurant_id': u'41704620'}\n",
      "{u'_id': ObjectId('5726f30045e0512ad8704dcf'),\n",
      " u'address': {u'building': u'1480',\n",
      "              u'coord': [-73.9557413, 40.7720266],\n",
      "              u'street': u'2 Avenue',\n",
      "              u'zipcode': u'10075'},\n",
      " u'borough': u'Manhattan',\n",
      " u'cuisine': u'Italian',\n",
      " u'grades': [{u'date': datetime.datetime(2014, 10, 1, 0, 0),\n",
      "              u'grade': u'A',\n",
      "              u'score': 11},\n",
      "             {u'date': datetime.datetime(2014, 1, 16, 0, 0),\n",
      "              u'grade': u'B',\n",
      "              u'score': 17}],\n",
      " u'name': u'Vella',\n",
      " u'restaurant_id': u'41704620'}\n",
      "{u'_id': ObjectId('5726f3c145e0512b5335c8d3'),\n",
      " u'address': {u'building': u'1480',\n",
      "              u'coord': [-73.9557413, 40.7720266],\n",
      "              u'street': u'2 Avenue',\n",
      "              u'zipcode': u'10075'},\n",
      " u'borough': u'Manhattan',\n",
      " u'cuisine': u'Italian',\n",
      " u'grades': [{u'date': datetime.datetime(2014, 10, 1, 0, 0),\n",
      "              u'grade': u'A',\n",
      "              u'score': 11},\n",
      "             {u'date': datetime.datetime(2014, 1, 16, 0, 0),\n",
      "              u'grade': u'B',\n",
      "              u'score': 17}],\n",
      " u'name': u'Vella',\n",
      " u'restaurant_id': u'41704620'}\n"
     ]
    }
   ],
   "source": [
    "for document in cursor:\n",
    "    import pprint\n",
    "    pprint.pprint(document)"
   ]
  },
  {
   "cell_type": "code",
   "execution_count": 17,
   "metadata": {
    "collapsed": false,
    "scrolled": true
   },
   "outputs": [
    {
     "name": "stdout",
     "output_type": "stream",
     "text": [
      "{u'_id': ObjectId('5726f2d045e0512ab4126fb1'),\n",
      " u'address': {u'building': u'1480',\n",
      "              u'coord': [-73.9557413, 40.7720266],\n",
      "              u'street': u'2 Avenue',\n",
      "              u'zipcode': u'10075'},\n",
      " u'borough': u'Manhattan',\n",
      " u'cuisine': u'Italian',\n",
      " u'grades': [{u'date': datetime.datetime(2014, 10, 1, 0, 0),\n",
      "              u'grade': u'A',\n",
      "              u'score': 11},\n",
      "             {u'date': datetime.datetime(2014, 1, 16, 0, 0),\n",
      "              u'grade': u'B',\n",
      "              u'score': 17}],\n",
      " u'name': u'Vella',\n",
      " u'restaurant_id': u'41704620'}\n",
      "{u'_id': ObjectId('5726f2d845e0512ac42f8294'),\n",
      " u'address': {u'building': u'1480',\n",
      "              u'coord': [-73.9557413, 40.7720266],\n",
      "              u'street': u'2 Avenue',\n",
      "              u'zipcode': u'10075'},\n",
      " u'borough': u'Manhattan',\n",
      " u'cuisine': u'Italian',\n",
      " u'grades': [{u'date': datetime.datetime(2014, 10, 1, 0, 0),\n",
      "              u'grade': u'A',\n",
      "              u'score': 11},\n",
      "             {u'date': datetime.datetime(2014, 1, 16, 0, 0),\n",
      "              u'grade': u'B',\n",
      "              u'score': 17}],\n",
      " u'name': u'Vella',\n",
      " u'restaurant_id': u'41704620'}\n",
      "{u'_id': ObjectId('5726f2f545e0512ace4bc79b'),\n",
      " u'address': {u'building': u'1480',\n",
      "              u'coord': [-73.9557413, 40.7720266],\n",
      "              u'street': u'2 Avenue',\n",
      "              u'zipcode': u'10075'},\n",
      " u'borough': u'Manhattan',\n",
      " u'cuisine': u'Italian',\n",
      " u'grades': [{u'date': datetime.datetime(2014, 10, 1, 0, 0),\n",
      "              u'grade': u'A',\n",
      "              u'score': 11},\n",
      "             {u'date': datetime.datetime(2014, 1, 16, 0, 0),\n",
      "              u'grade': u'B',\n",
      "              u'score': 17}],\n",
      " u'name': u'Vella',\n",
      " u'restaurant_id': u'41704620'}\n",
      "{u'_id': ObjectId('5726f30045e0512ad8704dcf'),\n",
      " u'address': {u'building': u'1480',\n",
      "              u'coord': [-73.9557413, 40.7720266],\n",
      "              u'street': u'2 Avenue',\n",
      "              u'zipcode': u'10075'},\n",
      " u'borough': u'Manhattan',\n",
      " u'cuisine': u'Italian',\n",
      " u'grades': [{u'date': datetime.datetime(2014, 10, 1, 0, 0),\n",
      "              u'grade': u'A',\n",
      "              u'score': 11},\n",
      "             {u'date': datetime.datetime(2014, 1, 16, 0, 0),\n",
      "              u'grade': u'B',\n",
      "              u'score': 17}],\n",
      " u'name': u'Vella',\n",
      " u'restaurant_id': u'41704620'}\n",
      "{u'_id': ObjectId('5726f3c145e0512b5335c8d3'),\n",
      " u'address': {u'building': u'1480',\n",
      "              u'coord': [-73.9557413, 40.7720266],\n",
      "              u'street': u'2 Avenue',\n",
      "              u'zipcode': u'10075'},\n",
      " u'borough': u'Manhattan',\n",
      " u'cuisine': u'Italian',\n",
      " u'grades': [{u'date': datetime.datetime(2014, 10, 1, 0, 0),\n",
      "              u'grade': u'A',\n",
      "              u'score': 11},\n",
      "             {u'date': datetime.datetime(2014, 1, 16, 0, 0),\n",
      "              u'grade': u'B',\n",
      "              u'score': 17}],\n",
      " u'name': u'Vella',\n",
      " u'restaurant_id': u'41704620'}\n"
     ]
    }
   ],
   "source": [
    "cursor = db.restaurants.find({\"borough\":\"Manhattan\"})\n",
    "for document in cursor:\n",
    "    pprint.pprint(document)"
   ]
  },
  {
   "cell_type": "code",
   "execution_count": 20,
   "metadata": {
    "collapsed": false,
    "scrolled": true
   },
   "outputs": [
    {
     "name": "stdout",
     "output_type": "stream",
     "text": [
      "{u'_id': ObjectId('5726f2d045e0512ab4126fb1'),\n",
      " u'address': {u'building': u'1480',\n",
      "              u'coord': [-73.9557413, 40.7720266],\n",
      "              u'street': u'2 Avenue',\n",
      "              u'zipcode': u'10075'},\n",
      " u'borough': u'Manhattan',\n",
      " u'cuisine': u'Italian',\n",
      " u'grades': [{u'date': datetime.datetime(2014, 10, 1, 0, 0),\n",
      "              u'grade': u'A',\n",
      "              u'score': 11},\n",
      "             {u'date': datetime.datetime(2014, 1, 16, 0, 0),\n",
      "              u'grade': u'B',\n",
      "              u'score': 17}],\n",
      " u'name': u'Vella',\n",
      " u'restaurant_id': u'41704620'}\n",
      "{u'_id': ObjectId('5726f2d845e0512ac42f8294'),\n",
      " u'address': {u'building': u'1480',\n",
      "              u'coord': [-73.9557413, 40.7720266],\n",
      "              u'street': u'2 Avenue',\n",
      "              u'zipcode': u'10075'},\n",
      " u'borough': u'Manhattan',\n",
      " u'cuisine': u'Italian',\n",
      " u'grades': [{u'date': datetime.datetime(2014, 10, 1, 0, 0),\n",
      "              u'grade': u'A',\n",
      "              u'score': 11},\n",
      "             {u'date': datetime.datetime(2014, 1, 16, 0, 0),\n",
      "              u'grade': u'B',\n",
      "              u'score': 17}],\n",
      " u'name': u'Vella',\n",
      " u'restaurant_id': u'41704620'}\n",
      "{u'_id': ObjectId('5726f2f545e0512ace4bc79b'),\n",
      " u'address': {u'building': u'1480',\n",
      "              u'coord': [-73.9557413, 40.7720266],\n",
      "              u'street': u'2 Avenue',\n",
      "              u'zipcode': u'10075'},\n",
      " u'borough': u'Manhattan',\n",
      " u'cuisine': u'Italian',\n",
      " u'grades': [{u'date': datetime.datetime(2014, 10, 1, 0, 0),\n",
      "              u'grade': u'A',\n",
      "              u'score': 11},\n",
      "             {u'date': datetime.datetime(2014, 1, 16, 0, 0),\n",
      "              u'grade': u'B',\n",
      "              u'score': 17}],\n",
      " u'name': u'Vella',\n",
      " u'restaurant_id': u'41704620'}\n",
      "{u'_id': ObjectId('5726f30045e0512ad8704dcf'),\n",
      " u'address': {u'building': u'1480',\n",
      "              u'coord': [-73.9557413, 40.7720266],\n",
      "              u'street': u'2 Avenue',\n",
      "              u'zipcode': u'10075'},\n",
      " u'borough': u'Manhattan',\n",
      " u'cuisine': u'Italian',\n",
      " u'grades': [{u'date': datetime.datetime(2014, 10, 1, 0, 0),\n",
      "              u'grade': u'A',\n",
      "              u'score': 11},\n",
      "             {u'date': datetime.datetime(2014, 1, 16, 0, 0),\n",
      "              u'grade': u'B',\n",
      "              u'score': 17}],\n",
      " u'name': u'Vella',\n",
      " u'restaurant_id': u'41704620'}\n",
      "{u'_id': ObjectId('5726f3c145e0512b5335c8d3'),\n",
      " u'address': {u'building': u'1480',\n",
      "              u'coord': [-73.9557413, 40.7720266],\n",
      "              u'street': u'2 Avenue',\n",
      "              u'zipcode': u'10075'},\n",
      " u'borough': u'Manhattan',\n",
      " u'cuisine': u'Italian',\n",
      " u'grades': [{u'date': datetime.datetime(2014, 10, 1, 0, 0),\n",
      "              u'grade': u'A',\n",
      "              u'score': 11},\n",
      "             {u'date': datetime.datetime(2014, 1, 16, 0, 0),\n",
      "              u'grade': u'B',\n",
      "              u'score': 17}],\n",
      " u'name': u'Vella',\n",
      " u'restaurant_id': u'41704620'}\n"
     ]
    }
   ],
   "source": [
    "cursor = db.restaurants.find({\"address.zipcode\":\"10075\"})\n",
    "for document in cursor:\n",
    "    pprint.pprint(document)"
   ]
  },
  {
   "cell_type": "code",
   "execution_count": 21,
   "metadata": {
    "collapsed": true
   },
   "outputs": [
    {
     "name": "stdout",
     "output_type": "stream",
     "text": [
      "{u'_id': ObjectId('5726f2d045e0512ab4126fb1'),\n",
      " u'address': {u'building': u'1480',\n",
      "              u'coord': [-73.9557413, 40.7720266],\n",
      "              u'street': u'2 Avenue',\n",
      "              u'zipcode': u'10075'},\n",
      " u'borough': u'Manhattan',\n",
      " u'cuisine': u'Italian',\n",
      " u'grades': [{u'date': datetime.datetime(2014, 10, 1, 0, 0),\n",
      "              u'grade': u'A',\n",
      "              u'score': 11},\n",
      "             {u'date': datetime.datetime(2014, 1, 16, 0, 0),\n",
      "              u'grade': u'B',\n",
      "              u'score': 17}],\n",
      " u'name': u'Vella',\n",
      " u'restaurant_id': u'41704620'}\n",
      "{u'_id': ObjectId('5726f2d845e0512ac42f8294'),\n",
      " u'address': {u'building': u'1480',\n",
      "              u'coord': [-73.9557413, 40.7720266],\n",
      "              u'street': u'2 Avenue',\n",
      "              u'zipcode': u'10075'},\n",
      " u'borough': u'Manhattan',\n",
      " u'cuisine': u'Italian',\n",
      " u'grades': [{u'date': datetime.datetime(2014, 10, 1, 0, 0),\n",
      "              u'grade': u'A',\n",
      "              u'score': 11},\n",
      "             {u'date': datetime.datetime(2014, 1, 16, 0, 0),\n",
      "              u'grade': u'B',\n",
      "              u'score': 17}],\n",
      " u'name': u'Vella',\n",
      " u'restaurant_id': u'41704620'}\n",
      "{u'_id': ObjectId('5726f2f545e0512ace4bc79b'),\n",
      " u'address': {u'building': u'1480',\n",
      "              u'coord': [-73.9557413, 40.7720266],\n",
      "              u'street': u'2 Avenue',\n",
      "              u'zipcode': u'10075'},\n",
      " u'borough': u'Manhattan',\n",
      " u'cuisine': u'Italian',\n",
      " u'grades': [{u'date': datetime.datetime(2014, 10, 1, 0, 0),\n",
      "              u'grade': u'A',\n",
      "              u'score': 11},\n",
      "             {u'date': datetime.datetime(2014, 1, 16, 0, 0),\n",
      "              u'grade': u'B',\n",
      "              u'score': 17}],\n",
      " u'name': u'Vella',\n",
      " u'restaurant_id': u'41704620'}\n",
      "{u'_id': ObjectId('5726f30045e0512ad8704dcf'),\n",
      " u'address': {u'building': u'1480',\n",
      "              u'coord': [-73.9557413, 40.7720266],\n",
      "              u'street': u'2 Avenue',\n",
      "              u'zipcode': u'10075'},\n",
      " u'borough': u'Manhattan',\n",
      " u'cuisine': u'Italian',\n",
      " u'grades': [{u'date': datetime.datetime(2014, 10, 1, 0, 0),\n",
      "              u'grade': u'A',\n",
      "              u'score': 11},\n",
      "             {u'date': datetime.datetime(2014, 1, 16, 0, 0),\n",
      "              u'grade': u'B',\n",
      "              u'score': 17}],\n",
      " u'name': u'Vella',\n",
      " u'restaurant_id': u'41704620'}\n",
      "{u'_id': ObjectId('5726f3c145e0512b5335c8d3'),\n",
      " u'address': {u'building': u'1480',\n",
      "              u'coord': [-73.9557413, 40.7720266],\n",
      "              u'street': u'2 Avenue',\n",
      "              u'zipcode': u'10075'},\n",
      " u'borough': u'Manhattan',\n",
      " u'cuisine': u'Italian',\n",
      " u'grades': [{u'date': datetime.datetime(2014, 10, 1, 0, 0),\n",
      "              u'grade': u'A',\n",
      "              u'score': 11},\n",
      "             {u'date': datetime.datetime(2014, 1, 16, 0, 0),\n",
      "              u'grade': u'B',\n",
      "              u'score': 17}],\n",
      " u'name': u'Vella',\n",
      " u'restaurant_id': u'41704620'}\n"
     ]
    }
   ],
   "source": [
    "cursor = db.restaurants.find({\"grades.grade\": \"B\"})\n",
    "for document in cursor:\n",
    "    pprint.pprint(document)"
   ]
  },
  {
   "cell_type": "code",
   "execution_count": 22,
   "metadata": {
    "collapsed": true
   },
   "outputs": [
    {
     "name": "stdout",
     "output_type": "stream",
     "text": [
      "{u'_id': ObjectId('5726f2d045e0512ab4126fb1'),\n",
      " u'address': {u'building': u'1480',\n",
      "              u'coord': [-73.9557413, 40.7720266],\n",
      "              u'street': u'2 Avenue',\n",
      "              u'zipcode': u'10075'},\n",
      " u'borough': u'Manhattan',\n",
      " u'cuisine': u'Italian',\n",
      " u'grades': [{u'date': datetime.datetime(2014, 10, 1, 0, 0),\n",
      "              u'grade': u'A',\n",
      "              u'score': 11},\n",
      "             {u'date': datetime.datetime(2014, 1, 16, 0, 0),\n",
      "              u'grade': u'B',\n",
      "              u'score': 17}],\n",
      " u'name': u'Vella',\n",
      " u'restaurant_id': u'41704620'}\n",
      "{u'_id': ObjectId('5726f2d845e0512ac42f8294'),\n",
      " u'address': {u'building': u'1480',\n",
      "              u'coord': [-73.9557413, 40.7720266],\n",
      "              u'street': u'2 Avenue',\n",
      "              u'zipcode': u'10075'},\n",
      " u'borough': u'Manhattan',\n",
      " u'cuisine': u'Italian',\n",
      " u'grades': [{u'date': datetime.datetime(2014, 10, 1, 0, 0),\n",
      "              u'grade': u'A',\n",
      "              u'score': 11},\n",
      "             {u'date': datetime.datetime(2014, 1, 16, 0, 0),\n",
      "              u'grade': u'B',\n",
      "              u'score': 17}],\n",
      " u'name': u'Vella',\n",
      " u'restaurant_id': u'41704620'}\n",
      "{u'_id': ObjectId('5726f2f545e0512ace4bc79b'),\n",
      " u'address': {u'building': u'1480',\n",
      "              u'coord': [-73.9557413, 40.7720266],\n",
      "              u'street': u'2 Avenue',\n",
      "              u'zipcode': u'10075'},\n",
      " u'borough': u'Manhattan',\n",
      " u'cuisine': u'Italian',\n",
      " u'grades': [{u'date': datetime.datetime(2014, 10, 1, 0, 0),\n",
      "              u'grade': u'A',\n",
      "              u'score': 11},\n",
      "             {u'date': datetime.datetime(2014, 1, 16, 0, 0),\n",
      "              u'grade': u'B',\n",
      "              u'score': 17}],\n",
      " u'name': u'Vella',\n",
      " u'restaurant_id': u'41704620'}\n",
      "{u'_id': ObjectId('5726f30045e0512ad8704dcf'),\n",
      " u'address': {u'building': u'1480',\n",
      "              u'coord': [-73.9557413, 40.7720266],\n",
      "              u'street': u'2 Avenue',\n",
      "              u'zipcode': u'10075'},\n",
      " u'borough': u'Manhattan',\n",
      " u'cuisine': u'Italian',\n",
      " u'grades': [{u'date': datetime.datetime(2014, 10, 1, 0, 0),\n",
      "              u'grade': u'A',\n",
      "              u'score': 11},\n",
      "             {u'date': datetime.datetime(2014, 1, 16, 0, 0),\n",
      "              u'grade': u'B',\n",
      "              u'score': 17}],\n",
      " u'name': u'Vella',\n",
      " u'restaurant_id': u'41704620'}\n",
      "{u'_id': ObjectId('5726f3c145e0512b5335c8d3'),\n",
      " u'address': {u'building': u'1480',\n",
      "              u'coord': [-73.9557413, 40.7720266],\n",
      "              u'street': u'2 Avenue',\n",
      "              u'zipcode': u'10075'},\n",
      " u'borough': u'Manhattan',\n",
      " u'cuisine': u'Italian',\n",
      " u'grades': [{u'date': datetime.datetime(2014, 10, 1, 0, 0),\n",
      "              u'grade': u'A',\n",
      "              u'score': 11},\n",
      "             {u'date': datetime.datetime(2014, 1, 16, 0, 0),\n",
      "              u'grade': u'B',\n",
      "              u'score': 17}],\n",
      " u'name': u'Vella',\n",
      " u'restaurant_id': u'41704620'}\n"
     ]
    }
   ],
   "source": [
    "cursor = db.restaurants.find({\"cuisine\": \"Italian\", \"address.zipcode\": \"10075\"})\n",
    "for document in cursor:\n",
    "    pprint.pprint(document)"
   ]
  },
  {
   "cell_type": "code",
   "execution_count": 25,
   "metadata": {
    "collapsed": false
   },
   "outputs": [],
   "source": [
    "import pymongo\n",
    "cursor = db.restaurants.find().sort([(\"borough\", pymongo.ASCENDING),\n",
    "                                     (\"address.zipcode\", pymongo.ASCENDING)])"
   ]
  },
  {
   "cell_type": "code",
   "execution_count": 26,
   "metadata": {
    "collapsed": true
   },
   "outputs": [
    {
     "name": "stdout",
     "output_type": "stream",
     "text": [
      "{u'_id': ObjectId('5726f2d045e0512ab4126fb1'),\n",
      " u'address': {u'building': u'1480',\n",
      "              u'coord': [-73.9557413, 40.7720266],\n",
      "              u'street': u'2 Avenue',\n",
      "              u'zipcode': u'10075'},\n",
      " u'borough': u'Manhattan',\n",
      " u'cuisine': u'Italian',\n",
      " u'grades': [{u'date': datetime.datetime(2014, 10, 1, 0, 0),\n",
      "              u'grade': u'A',\n",
      "              u'score': 11},\n",
      "             {u'date': datetime.datetime(2014, 1, 16, 0, 0),\n",
      "              u'grade': u'B',\n",
      "              u'score': 17}],\n",
      " u'name': u'Vella',\n",
      " u'restaurant_id': u'41704620'}\n",
      "{u'_id': ObjectId('5726f2d845e0512ac42f8294'),\n",
      " u'address': {u'building': u'1480',\n",
      "              u'coord': [-73.9557413, 40.7720266],\n",
      "              u'street': u'2 Avenue',\n",
      "              u'zipcode': u'10075'},\n",
      " u'borough': u'Manhattan',\n",
      " u'cuisine': u'Italian',\n",
      " u'grades': [{u'date': datetime.datetime(2014, 10, 1, 0, 0),\n",
      "              u'grade': u'A',\n",
      "              u'score': 11},\n",
      "             {u'date': datetime.datetime(2014, 1, 16, 0, 0),\n",
      "              u'grade': u'B',\n",
      "              u'score': 17}],\n",
      " u'name': u'Vella',\n",
      " u'restaurant_id': u'41704620'}\n",
      "{u'_id': ObjectId('5726f2f545e0512ace4bc79b'),\n",
      " u'address': {u'building': u'1480',\n",
      "              u'coord': [-73.9557413, 40.7720266],\n",
      "              u'street': u'2 Avenue',\n",
      "              u'zipcode': u'10075'},\n",
      " u'borough': u'Manhattan',\n",
      " u'cuisine': u'Italian',\n",
      " u'grades': [{u'date': datetime.datetime(2014, 10, 1, 0, 0),\n",
      "              u'grade': u'A',\n",
      "              u'score': 11},\n",
      "             {u'date': datetime.datetime(2014, 1, 16, 0, 0),\n",
      "              u'grade': u'B',\n",
      "              u'score': 17}],\n",
      " u'name': u'Vella',\n",
      " u'restaurant_id': u'41704620'}\n",
      "{u'_id': ObjectId('5726f30045e0512ad8704dcf'),\n",
      " u'address': {u'building': u'1480',\n",
      "              u'coord': [-73.9557413, 40.7720266],\n",
      "              u'street': u'2 Avenue',\n",
      "              u'zipcode': u'10075'},\n",
      " u'borough': u'Manhattan',\n",
      " u'cuisine': u'Italian',\n",
      " u'grades': [{u'date': datetime.datetime(2014, 10, 1, 0, 0),\n",
      "              u'grade': u'A',\n",
      "              u'score': 11},\n",
      "             {u'date': datetime.datetime(2014, 1, 16, 0, 0),\n",
      "              u'grade': u'B',\n",
      "              u'score': 17}],\n",
      " u'name': u'Vella',\n",
      " u'restaurant_id': u'41704620'}\n",
      "{u'_id': ObjectId('5726f3c145e0512b5335c8d3'),\n",
      " u'address': {u'building': u'1480',\n",
      "              u'coord': [-73.9557413, 40.7720266],\n",
      "              u'street': u'2 Avenue',\n",
      "              u'zipcode': u'10075'},\n",
      " u'borough': u'Manhattan',\n",
      " u'cuisine': u'Italian',\n",
      " u'grades': [{u'date': datetime.datetime(2014, 10, 1, 0, 0),\n",
      "              u'grade': u'A',\n",
      "              u'score': 11},\n",
      "             {u'date': datetime.datetime(2014, 1, 16, 0, 0),\n",
      "              u'grade': u'B',\n",
      "              u'score': 17}],\n",
      " u'name': u'Vella',\n",
      " u'restaurant_id': u'41704620'}\n"
     ]
    }
   ],
   "source": [
    "for document in cursor:\n",
    "    pprint.pprint(document)"
   ]
  },
  {
   "cell_type": "code",
   "execution_count": 37,
   "metadata": {
    "collapsed": true
   },
   "outputs": [],
   "source": [
    "client = MongoClient()\n",
    "db = client['test']"
   ]
  },
  {
   "cell_type": "code",
   "execution_count": 38,
   "metadata": {
    "collapsed": true
   },
   "outputs": [],
   "source": [
    "result = db.restaurants.update_one(\n",
    "    {\"name\": \"Juni\"},\n",
    "    {\n",
    "        \"$set\": {\n",
    "            \"cuisine\": \"American (New)\"\n",
    "        },\n",
    "        \"$currentDate\": {\"lastModified\": True}\n",
    "    }\n",
    ")"
   ]
  },
  {
   "cell_type": "code",
   "execution_count": 39,
   "metadata": {
    "collapsed": false
   },
   "outputs": [
    {
     "data": {
      "text/plain": [
       "0"
      ]
     },
     "execution_count": 39,
     "metadata": {},
     "output_type": "execute_result"
    }
   ],
   "source": [
    "result.matched_count"
   ]
  },
  {
   "cell_type": "code",
   "execution_count": 40,
   "metadata": {
    "collapsed": false
   },
   "outputs": [
    {
     "data": {
      "text/plain": [
       "0"
      ]
     },
     "execution_count": 40,
     "metadata": {},
     "output_type": "execute_result"
    }
   ],
   "source": [
    "result.modified_count"
   ]
  },
  {
   "cell_type": "code",
   "execution_count": 41,
   "metadata": {
    "collapsed": true
   },
   "outputs": [],
   "source": [
    "result = db.restaurants.update_one(\n",
    "    {\"restaurant_id\": \"41156888\"},\n",
    "    {\"$set\": {\"address.street\": \"East 31st Street\"}}\n",
    ")"
   ]
  },
  {
   "cell_type": "code",
   "execution_count": 42,
   "metadata": {
    "collapsed": false
   },
   "outputs": [
    {
     "data": {
      "text/plain": [
       "0"
      ]
     },
     "execution_count": 42,
     "metadata": {},
     "output_type": "execute_result"
    }
   ],
   "source": [
    "result.matched_count"
   ]
  },
  {
   "cell_type": "code",
   "execution_count": 43,
   "metadata": {
    "collapsed": false
   },
   "outputs": [
    {
     "data": {
      "text/plain": [
       "0"
      ]
     },
     "execution_count": 43,
     "metadata": {},
     "output_type": "execute_result"
    }
   ],
   "source": [
    "result.modified_count"
   ]
  },
  {
   "cell_type": "code",
   "execution_count": 45,
   "metadata": {
    "collapsed": false
   },
   "outputs": [],
   "source": [
    "result = db.restaurants.update_many(\n",
    "    {\"address.zipcode\": \"10016\", \"cuisine\": \"Other\"},\n",
    "    {\n",
    "        \"$set\": {\"cuisine\": \"Category To Be Determined\"},\n",
    "        \"$currentDate\": {\"lastModified\": True}\n",
    "    }\n",
    ")"
   ]
  },
  {
   "cell_type": "code",
   "execution_count": 46,
   "metadata": {
    "collapsed": false
   },
   "outputs": [
    {
     "data": {
      "text/plain": [
       "0"
      ]
     },
     "execution_count": 46,
     "metadata": {},
     "output_type": "execute_result"
    }
   ],
   "source": [
    "result.matched_count"
   ]
  },
  {
   "cell_type": "code",
   "execution_count": 47,
   "metadata": {
    "collapsed": false
   },
   "outputs": [
    {
     "data": {
      "text/plain": [
       "0"
      ]
     },
     "execution_count": 47,
     "metadata": {},
     "output_type": "execute_result"
    }
   ],
   "source": [
    "result.modified_count"
   ]
  },
  {
   "cell_type": "code",
   "execution_count": null,
   "metadata": {
    "collapsed": true
   },
   "outputs": [],
   "source": []
  }
 ],
 "metadata": {
  "kernelspec": {
   "display_name": "Python 2",
   "language": "python",
   "name": "python2"
  },
  "language_info": {
   "codemirror_mode": {
    "name": "ipython",
    "version": 2
   },
   "file_extension": ".py",
   "mimetype": "text/x-python",
   "name": "python",
   "nbconvert_exporter": "python",
   "pygments_lexer": "ipython2",
   "version": "2.7.11"
  }
 },
 "nbformat": 4,
 "nbformat_minor": 0
}

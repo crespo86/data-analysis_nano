{
 "cells": [
  {
   "cell_type": "raw",
   "metadata": {},
   "source": [
    "# OpenStreetMap Data Case Study"
   ]
  },
  {
   "cell_type": "markdown",
   "metadata": {},
   "source": [
    "## Map Area"
   ]
  },
  {
   "cell_type": "markdown",
   "metadata": {},
   "source": [
    "neal by Ellicott City, Howard County, Maryland, United States of America\n",
    "\n",
    "- https://www.openstreetmap.org/relation/133607\n",
    "\n",
    "In 2008, I lived in the city, so I want to analyized the city data. I acutally grap the city.. but I think the my data grap the region more than Ellicott City like Howard County and so...."
   ]
  },
  {
   "cell_type": "markdown",
   "metadata": {
    "collapsed": true
   },
   "source": [
    "## Problems Encountered in the Map"
   ]
  },
  {
   "cell_type": "markdown",
   "metadata": {},
   "source": [
    "After I get the file data of Ellicoot City, I put in the file to my previous data.py files to make CSV files to use in sql and find some problems to use this file.\n",
    "\n",
    "- street names problem\n",
    "  - there are some street names which didn't audited using data.py\n",
    "\n",
    "- zipcode problem\n",
    "  - the data has some different name like(postcode, postal_code)\n",
    "  - there are some diffenrent value(21244)\n",
    "  \n",
    "- overlap key name problem\n",
    "  - there are some different key name have same attributes (county_name = county, county_num = county_id) I check several times about this key."
   ]
  },
  {
   "cell_type": "markdown",
   "metadata": {},
   "source": [
    "## street names problem"
   ]
  },
  {
   "cell_type": "markdown",
   "metadata": {},
   "source": [
    "To standarize street names, 1. I have to know what kind of street names the data has, and 2. update data.py to adjust it."
   ]
  },
  {
   "cell_type": "markdown",
   "metadata": {},
   "source": [
    "using below code, I got some street names in this file.\n"
   ]
  },
  {
   "cell_type": "code",
   "execution_count": null,
   "metadata": {
    "collapsed": true
   },
   "outputs": [],
   "source": [
    "OSM_PATH = \"/home/shlee/Desktop/Programming/ellicott city.xml\"\n",
    "\n",
    "def get_street_name(files):\n",
    "    data = []\n",
    "    context = ET.iterparse(files, events=('start', 'end'))\n",
    "    _, root = next(context)\n",
    "    for event, elem in context:\n",
    "        if elem.tag == 'way':\n",
    "            for a in elem.iter(\"tag\"):\n",
    "                if a.attrib['k'] == 'tiger:name_type':\n",
    "                    data.append(a.attrib['v'])\n",
    "    return set(data)\n",
    "    \n",
    "data = set(['Pike', 'Walk', 'Run', 'Trl', 'Ave:Rd', 'Ln', 'Pl:Rd', 'Path', 'Pky', 'St', 'Rd', 'Cir', 'Dr:Rd', 'Way', 'Aly', 'Ave', 'Ter', 'Row', 'Dr', 'Pl', 'Ct', 'Blvd', 'Ave:Dr', 'Cir:Ct', 'Ave; Rd', 'Dr:St', 'Dr:Ln:Rd', 'Dr:Ln'])\n"
   ]
  },
  {
   "cell_type": "markdown",
   "metadata": {},
   "source": [
    "using the data, I insert below code to data.py to make aduited csv file.\n"
   ]
  },
  {
   "cell_type": "code",
   "execution_count": null,
   "metadata": {
    "collapsed": true
   },
   "outputs": [],
   "source": [
    "def update(name, mapping):\n",
    "    try:\n",
    "        name = mapping[name]\n",
    "        return name\n",
    "    except:\n",
    "        return name"
   ]
  },
  {
   "cell_type": "markdown",
   "metadata": {},
   "source": [
    "## zipcode problem"
   ]
  },
  {
   "cell_type": "markdown",
   "metadata": {},
   "source": [
    "there are two column postcode, postal_code, I have to merge it.\n"
   ]
  },
  {
   "cell_type": "code",
   "execution_count": null,
   "metadata": {
    "collapsed": true
   },
   "outputs": [],
   "source": [
    "select key, count(*) \n",
    "from ways_tags\n",
    "where key LIKE 'post%'\n",
    "group by key\n",
    "order by count(*) desc;\n",
    "\n",
    "   key          value\n",
    "\"postcode\"     \"24010\"\n",
    "\"postal_code\"  \"176\"\n",
    "\"postal\"\t   \"7\"\n"
   ]
  },
  {
   "cell_type": "markdown",
   "metadata": {},
   "source": [
    "I decide to update 'postal' and 'postal_code' to 'postcode'"
   ]
  },
  {
   "cell_type": "code",
   "execution_count": null,
   "metadata": {
    "collapsed": true
   },
   "outputs": [],
   "source": [
    "update ways_tags\n",
    "set key = \"postcode\"\n",
    "where key = \"postal_code\" or key = \"postal\";"
   ]
  },
  {
   "cell_type": "markdown",
   "metadata": {},
   "source": [
    "check the result"
   ]
  },
  {
   "cell_type": "markdown",
   "metadata": {},
   "source": [
    "\"postcode\"\t\"24193\""
   ]
  },
  {
   "cell_type": "markdown",
   "metadata": {},
   "source": [
    "next, I check wrong postcode"
   ]
  },
  {
   "cell_type": "code",
   "execution_count": null,
   "metadata": {
    "collapsed": true
   },
   "outputs": [],
   "source": [
    "select key, value , count(*)\n",
    "from ways_tags \n",
    "group by value \n",
    "having key = \"postcode\" ; \n",
    "\n",
    "\"postcode\"\t\"21207\"\t\"4934\"\n",
    "\"postcode\"\t\"21229\"\t\"2370\"\n",
    "\"postcode\"\t\"21043\"\t\"2163\"\n",
    "\"postcode\"\t\"21244\"\t\"911\"\n",
    "\"postcode\"\t\"21042\"\t\"830\"\n",
    "\"postcode\"\t\"21227\"\t\"718\"\n",
    "\"postcode\"\t\"21163\"\t\"204\"\n",
    "\"postcode\"\t\"21045\"\t\"116\"\n",
    "\"postcode\"\t\"21075\"\t\"105\"\n",
    "\"postcode\"\t\"21044\"\t\"74\"\n",
    "\"postcode\"\t\"21104\"\t\"69\"\n",
    "\"postcode\"\t\"21029\"\t\"48\"\n",
    "\"postcode\"\t\"21794\"\t\"14\"\n",
    "\"postcode\"\t\"21216\"\t\"2\"\n",
    "\"postcode\"\t\"21784\"\t\"2\"\n",
    "\"postcode\"\t\"21042-6298\"\t\"1\"\n",
    "\"postcode\"\t\"21092\"\t\"1\"\n",
    "\"postcode\"\t\"21212\"\t\"1\"\n",
    "\"postcode\"\t\"21214\"\t\"1\"\n",
    "\"postcode\"\t\"21215\"\t\"1\""
   ]
  },
  {
   "cell_type": "markdown",
   "metadata": {},
   "source": [
    "I doubt the postcode which count is under 20"
   ]
  },
  {
   "cell_type": "code",
   "execution_count": null,
   "metadata": {
    "collapsed": true
   },
   "outputs": [],
   "source": [
    "\"postcode\"\t\"21794\"\t\"14\"           -> right     \n",
    "\"postcode\"\t\"21216\"\t\"2\"            -> 21207\n",
    "\"postcode\"\t\"21784\"\t\"2\"            -> right\n",
    "\"postcode\"\t\"21042-6298\"\t\"1\"    -> 21042\n",
    "\"postcode\"\t\"21092\"\t\"1\"            -> 21029\n",
    "\"postcode\"\t\"21212\"\t\"1\"            -> 21207\n",
    "\"postcode\"\t\"21214\"\t\"1\"            -> 21207\n",
    "\"postcode\"\t\"21215\"\t\"1\"            -> 21207"
   ]
  },
  {
   "cell_type": "markdown",
   "metadata": {},
   "source": [
    "i update the things using update fuction."
   ]
  },
  {
   "cell_type": "markdown",
   "metadata": {},
   "source": [
    "# overlapped keys "
   ]
  },
  {
   "cell_type": "markdown",
   "metadata": {},
   "source": [
    "some way's key are County, county, county_name // county_id, county_num in same meaning\n"
   ]
  },
  {
   "cell_type": "code",
   "execution_count": null,
   "metadata": {
    "collapsed": true
   },
   "outputs": [],
   "source": [
    "update ways_tags\n",
    "set key = \"county\"\n",
    "where key = 'County' or key = 'county_name';\n",
    "\n",
    "update ways_tags\n",
    "set key = \"county_id\"\n",
    "where  key = 'county_num';\n",
    "\n",
    "using this code, aduited the data"
   ]
  },
  {
   "cell_type": "markdown",
   "metadata": {},
   "source": [
    "check overlapped city name"
   ]
  },
  {
   "cell_type": "code",
   "execution_count": null,
   "metadata": {
    "collapsed": true
   },
   "outputs": [],
   "source": [
    "select distinct value\n",
    "from nodes_tags\n",
    "where key = 'city'\n",
    "order by value ;\n",
    "\n",
    "\"Baltimore\"\n",
    "\"Carroll\"               \n",
    "\"Catonsville\"\n",
    "\"Clarksville\"\n",
    "\"Columbia\"            \n",
    "\"Elkridge\"\n",
    "\"Ellicott City\"\n",
    "\"Gwynn Oak\"            -> one is wrong  \n",
    "\"Gywnn Oak\"            ->\n",
    "\"Halethorpe\"\n",
    "\"Highlandtown\"\n",
    "\"Marriottsville\"\n",
    "\"Oella\"\n",
    "\"Windsor Mill\"\n",
    "\"Woodstock\""
   ]
  },
  {
   "cell_type": "markdown",
   "metadata": {},
   "source": [
    "using update, aduit all. Also, i check ways_tags too."
   ]
  },
  {
   "cell_type": "markdown",
   "metadata": {},
   "source": [
    "# Data Overview and Additional Ideas"
   ]
  },
  {
   "cell_type": "markdown",
   "metadata": {},
   "source": [
    "This section contains basic statistics about the dataset, the sqlite used to gather them, and some additional ideas about the data in context."
   ]
  },
  {
   "cell_type": "markdown",
   "metadata": {},
   "source": [
    "## File sizes"
   ]
  },
  {
   "cell_type": "markdown",
   "metadata": {},
   "source": [
    "- ellicoot_city.osm ......... 140.7 MB\n",
    "- ellicott.db .......... 100.7 MB\n",
    "- nodes.csv ............. 52.7 MB\n",
    "- nodes_tags.csv ........ 3.2 MB\n",
    "- ways.csv .............. 3.9 MB\n",
    "- ways_tags.csv ......... 9.7 MB\n",
    "- ways_nodes.cv ......... 16.6 MB  "
   ]
  },
  {
   "cell_type": "markdown",
   "metadata": {},
   "source": [
    "## Number of nodes"
   ]
  },
  {
   "cell_type": "code",
   "execution_count": null,
   "metadata": {
    "collapsed": true
   },
   "outputs": [],
   "source": [
    "SELECT COUNT(*) FROM nodes;\n",
    "\n",
    "622975"
   ]
  },
  {
   "cell_type": "markdown",
   "metadata": {},
   "source": [
    "## Number of ways"
   ]
  },
  {
   "cell_type": "code",
   "execution_count": null,
   "metadata": {
    "collapsed": true
   },
   "outputs": [],
   "source": [
    "SELECT COUNT(*) FROM ways;\n",
    "\n",
    "64332"
   ]
  },
  {
   "cell_type": "markdown",
   "metadata": {},
   "source": [
    "## Number of unique users"
   ]
  },
  {
   "cell_type": "code",
   "execution_count": null,
   "metadata": {
    "collapsed": true
   },
   "outputs": [],
   "source": [
    "sqlite> SELECT COUNT(DISTINCT(e.uid))          \n",
    "FROM (SELECT uid FROM nodes UNION ALL SELECT uid FROM ways) e;\n",
    "\n",
    "214"
   ]
  },
  {
   "cell_type": "markdown",
   "metadata": {},
   "source": [
    "## Top 10 contributing users"
   ]
  },
  {
   "cell_type": "code",
   "execution_count": null,
   "metadata": {
    "collapsed": true
   },
   "outputs": [],
   "source": [
    "SELECT e.user, COUNT(*) as num\n",
    "FROM (SELECT user FROM nodes UNION ALL SELECT user FROM ways) e\n",
    "GROUP BY e.user\n",
    "ORDER BY num DESC\n",
    "LIMIT 10;\n",
    "\n",
    "\"asciiphil\"\t\"257122\"\n",
    "\"EP_Import\"\t\"256060\"\n",
    "\"Sarr_Cat\"\t\"67397\"\n",
    "\"mpetroff-imports\"\t\"35430\"\n",
    "\"RoadGeek_MD99\"\t\"33599\"\n",
    "\"ElliottPlack\"\t\"18640\"\n",
    "\"AdamJPaul\"\t\"3705\"\n",
    "\"mdroads\"\t\"2059\"\n",
    "\"kriscarle\"\t\"1936\"\n",
    "\"aude\"\t\"1037\""
   ]
  },
  {
   "cell_type": "markdown",
   "metadata": {},
   "source": [
    "## Number of users appearing only once (having 1 post)"
   ]
  },
  {
   "cell_type": "code",
   "execution_count": null,
   "metadata": {
    "collapsed": true
   },
   "outputs": [],
   "source": [
    "SELECT COUNT(*) \n",
    "FROM\n",
    "    (SELECT e.user, COUNT(*) as num\n",
    "     FROM (SELECT user FROM nodes UNION ALL SELECT user FROM ways) e\n",
    "     GROUP BY e.user\n",
    "     HAVING num=1)  u;\n",
    "     \n",
    "53"
   ]
  },
  {
   "cell_type": "markdown",
   "metadata": {},
   "source": [
    "## Number of city and county"
   ]
  },
  {
   "cell_type": "code",
   "execution_count": null,
   "metadata": {
    "collapsed": true
   },
   "outputs": [],
   "source": [
    "select count( distinct value )\n",
    "from \n",
    "(\n",
    "select distinct value\n",
    "from nodes_tags\n",
    "where key = 'city' or key = 'county'\n",
    "\n",
    "union all \n",
    "select distinct value\n",
    "from ways_tags\n",
    "where key = 'city' or key = 'county'\n",
    ")\n",
    "order by value desc\n",
    "\n",
    "18"
   ]
  },
  {
   "cell_type": "markdown",
   "metadata": {},
   "source": [
    "## Top 10 appearing amenities"
   ]
  },
  {
   "cell_type": "code",
   "execution_count": null,
   "metadata": {
    "collapsed": true
   },
   "outputs": [],
   "source": [
    "\"restaurant\"\t\"92\"\n",
    "\"school\"\t\"46\"\n",
    "\"emergency_phone\"\t\"32\"\n",
    "\"place_of_worship\"\t\"31\"\n",
    "\"bench\"\t\"27\"\n",
    "\"fast_food\"\t\"26\"\n",
    "\"cafe\"\t\"23\"\n",
    "\"charging_station\"\t\"18\"\n",
    "\"bank\"\t\"14\"\n",
    "\"shelter\"\t\"13\""
   ]
  },
  {
   "cell_type": "markdown",
   "metadata": {},
   "source": [
    "this is really interesting for me cuz when i was there, i didn't find restorant to eat nice food so i had to drive to goldencorral for 30minutes."
   ]
  },
  {
   "cell_type": "markdown",
   "metadata": {},
   "source": [
    "also, there are 4 clinics which is really few! i remember that my cousin broke his hand while shavelling snow, and i wanted to find hospital and that's horrible (because i don't get hospital which his insurance is accepted)"
   ]
  },
  {
   "cell_type": "markdown",
   "metadata": {},
   "source": [
    "## Transportation"
   ]
  },
  {
   "cell_type": "markdown",
   "metadata": {},
   "source": [
    "When i was there, there were just a few bus line and also connot find the information so i wanted to see the information in the map."
   ]
  },
  {
   "cell_type": "code",
   "execution_count": null,
   "metadata": {
    "collapsed": true
   },
   "outputs": [],
   "source": [
    "select key, count(*)\n",
    "from nodes_tags\n",
    "where key = 'public_transport';\n",
    "\n",
    "\"public_transport\"\t\"12\""
   ]
  },
  {
   "cell_type": "markdown",
   "metadata": {},
   "source": [
    "'12' is also very few, i remember there were 4 line buses. it's means more than 12 transport stations."
   ]
  },
  {
   "cell_type": "markdown",
   "metadata": {},
   "source": [
    "## addition: find top user's main area"
   ]
  },
  {
   "cell_type": "markdown",
   "metadata": {},
   "source": [
    "asciiphil make about 37% of this area... so i want to check this guy's main area"
   ]
  },
  {
   "cell_type": "code",
   "execution_count": null,
   "metadata": {
    "collapsed": true
   },
   "outputs": [],
   "source": [
    "select c.key, c.value\n",
    "from \n",
    "(select nodes_tags.key, nodes_tags.value\n",
    "from nodes join nodes_tags on nodes.id = nodes_tags.id\n",
    "where nodes.user = 'asciiphil' \n",
    "union all \n",
    "select ways_tags.key, ways_tags.value\n",
    "from ways join ways_tags on ways.id = ways_tags.id\n",
    "where ways.user = 'asciiphil' ) c\n",
    "where c.key = 'city'\n",
    "\n",
    "\"city\"\t\"Arbutus\"\n",
    "\"city\"\t\"Arbutus\""
   ]
  },
  {
   "cell_type": "markdown",
   "metadata": {},
   "source": [
    "surprisly, this guy have just 2 city tag.\n"
   ]
  },
  {
   "cell_type": "code",
   "execution_count": null,
   "metadata": {
    "collapsed": true
   },
   "outputs": [],
   "source": [
    "select c.value, count(c.value)\n",
    "from \n",
    "(select nodes_tags.key, nodes_tags.value\n",
    "from nodes join nodes_tags on nodes.id = nodes_tags.id\n",
    "where nodes.user = 'asciiphil' \n",
    "union all \n",
    "select ways_tags.key, ways_tags.value\n",
    "from ways join ways_tags on ways.id = ways_tags.id\n",
    "where ways.user = 'asciiphil' ) c\n",
    "where c.key = 'county'\n",
    "group by c.value\n",
    "\n",
    "\"Anne Arundel, MD\"\t\"8\"\n",
    "\"Baltimore, MD\"\t\"1998\"\n",
    "\"Howard, MD\"\t\"3186\""
   ]
  },
  {
   "cell_type": "markdown",
   "metadata": {},
   "source": [
    "this guy insert Baltimore and howard county data. i think his playground is howard and baltimore."
   ]
  },
  {
   "cell_type": "markdown",
   "metadata": {},
   "source": [
    "# conclusion"
   ]
  },
  {
   "cell_type": "markdown",
   "metadata": {},
   "source": [
    "I think this area's map is almost finished. But the area need bus station(which is really really terrible) information too!\n",
    "people who are making this map usually use different street, county, city name. so to be more precise map, openstreetmap can set a module to standardize address.\n",
    "standardize address means if we put the address data, then a module read this data and return normalized data. (like https://smartystreets.com/). "
   ]
  },
  {
   "cell_type": "markdown",
   "metadata": {},
   "source": [
    "### International address standardize problem: The international addressing standard"
   ]
  },
  {
   "cell_type": "markdown",
   "metadata": {},
   "source": [
    "In ISO19160, most of europe countries, US, and ASIA countries using ISO19160(international addressing standard) or tring to move to it.\n",
    "\n",
    "example\n",
    "- US: house number, road number, city name, state name, postalcode\n",
    "- France: house number, road number, postalcode, city name\n",
    "- Russia: postalcode, road number, house number, exit number\n",
    "- Germany: road number, house number, postal code, city name\n",
    "- Korea: city name, gu(specific area in city) name, road name, house name\n",
    "- China: city name, gu(specific area in city) name, road name, house name\n",
    "\n",
    "if we want to make a module to standardize address in this map,\n",
    "we can use standarize address module by each country.\n",
    "\n",
    "- first, select country \n",
    "- second, put in postalcode to get your rough address (maybe there are just state, city not road number, house number)\n",
    "- third, put in specific address (and the module change the specific address standardly like we did in this project's auditing. that can be one or many)\n",
    "- fourth, select the right address in the suggestion of third ways.\n",
    "\n",
    "This way cannot cover all over the world, but in most of country, i think we can make the standardize postal module."
   ]
  },
  {
   "cell_type": "markdown",
   "metadata": {},
   "source": [
    "### change existing address problem"
   ]
  },
  {
   "cell_type": "markdown",
   "metadata": {},
   "source": [
    "not make new address, change existing address is also problem. \n",
    "to standardize all address in the map, we have to change existing address too.\n",
    "This map is opensource map(it means we cannot rewrite all of map by own, we need to database of people of the world).\n",
    "- we can change this using people in the world cus this is opensource. using upper module, we can audit existing address.\n",
    "- we have to make an automatic way but it is gonna be not perfect. In most of country, postalcode can use to match right address roughly.\n",
    "  for specific address, we can change street name but can not proceed more than that. after change automatically, people can change the address if they think the changed address is wrong."
   ]
  }
 ],
 "metadata": {
  "kernelspec": {
   "display_name": "Python 3",
   "language": "python",
   "name": "python3"
  },
  "language_info": {
   "codemirror_mode": {
    "name": "ipython",
    "version": 3
   },
   "file_extension": ".py",
   "mimetype": "text/x-python",
   "name": "python",
   "nbconvert_exporter": "python",
   "pygments_lexer": "ipython3",
   "version": "3.5.1"
  }
 },
 "nbformat": 4,
 "nbformat_minor": 0
}
